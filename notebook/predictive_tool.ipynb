{
 "cells": [
  {
   "cell_type": "code",
   "execution_count": null,
   "id": "6c277fd2",
   "metadata": {},
   "outputs": [],
   "source": [
    "import pandas as pd #for computation -- library used for these reason\n",
    "import numpy as np #data manipulation\n",
    "import matplotlib.pyplot as plt #data visualization\n",
    "\n",
    "%matplotlib inline \n",
    "#magic function\n",
    "\n",
    "import chart_studio.plotly as py\n",
    "import plotly.graph_objs as go\n",
    "from plotly.offline import plot\n",
    "\n",
    "#for offline plotting\n",
    "\n",
    "from plotly.offline import download_plotlyjs, init_notebook_mode, plot, iplot\n",
    "init_notebook_mode(connected=True)"
   ]
  },
  {
   "cell_type": "code",
   "execution_count": 9,
   "id": "77b86d6a",
   "metadata": {},
   "outputs": [
    {
     "data": {
      "text/html": [
       "<div>\n",
       "<style scoped>\n",
       "    .dataframe tbody tr th:only-of-type {\n",
       "        vertical-align: middle;\n",
       "    }\n",
       "\n",
       "    .dataframe tbody tr th {\n",
       "        vertical-align: top;\n",
       "    }\n",
       "\n",
       "    .dataframe thead th {\n",
       "        text-align: right;\n",
       "    }\n",
       "</style>\n",
       "<table border=\"1\" class=\"dataframe\">\n",
       "  <thead>\n",
       "    <tr style=\"text-align: right;\">\n",
       "      <th></th>\n",
       "      <th>Date</th>\n",
       "      <th>Open</th>\n",
       "      <th>High</th>\n",
       "      <th>Low</th>\n",
       "      <th>Close</th>\n",
       "      <th>Adj Close</th>\n",
       "      <th>Volume</th>\n",
       "    </tr>\n",
       "  </thead>\n",
       "  <tbody>\n",
       "    <tr>\n",
       "      <th>0</th>\n",
       "      <td>2011-02-11</td>\n",
       "      <td>12.669643</td>\n",
       "      <td>12.778571</td>\n",
       "      <td>12.626429</td>\n",
       "      <td>12.744643</td>\n",
       "      <td>10.912909</td>\n",
       "      <td>367572800</td>\n",
       "    </tr>\n",
       "    <tr>\n",
       "      <th>1</th>\n",
       "      <td>2011-02-14</td>\n",
       "      <td>12.742500</td>\n",
       "      <td>12.838571</td>\n",
       "      <td>12.739643</td>\n",
       "      <td>12.827857</td>\n",
       "      <td>10.984161</td>\n",
       "      <td>310416400</td>\n",
       "    </tr>\n",
       "    <tr>\n",
       "      <th>2</th>\n",
       "      <td>2011-02-15</td>\n",
       "      <td>12.828214</td>\n",
       "      <td>12.856071</td>\n",
       "      <td>12.769643</td>\n",
       "      <td>12.853571</td>\n",
       "      <td>11.006181</td>\n",
       "      <td>284174800</td>\n",
       "    </tr>\n",
       "    <tr>\n",
       "      <th>3</th>\n",
       "      <td>2011-02-16</td>\n",
       "      <td>12.885714</td>\n",
       "      <td>13.032143</td>\n",
       "      <td>12.875000</td>\n",
       "      <td>12.968929</td>\n",
       "      <td>11.104959</td>\n",
       "      <td>481157600</td>\n",
       "    </tr>\n",
       "    <tr>\n",
       "      <th>4</th>\n",
       "      <td>2011-02-17</td>\n",
       "      <td>12.758929</td>\n",
       "      <td>12.866786</td>\n",
       "      <td>12.732857</td>\n",
       "      <td>12.796429</td>\n",
       "      <td>10.957253</td>\n",
       "      <td>530583200</td>\n",
       "    </tr>\n",
       "  </tbody>\n",
       "</table>\n",
       "</div>"
      ],
      "text/plain": [
       "         Date       Open       High        Low      Close  Adj Close  \\\n",
       "0  2011-02-11  12.669643  12.778571  12.626429  12.744643  10.912909   \n",
       "1  2011-02-14  12.742500  12.838571  12.739643  12.827857  10.984161   \n",
       "2  2011-02-15  12.828214  12.856071  12.769643  12.853571  11.006181   \n",
       "3  2011-02-16  12.885714  13.032143  12.875000  12.968929  11.104959   \n",
       "4  2011-02-17  12.758929  12.866786  12.732857  12.796429  10.957253   \n",
       "\n",
       "      Volume  \n",
       "0  367572800  \n",
       "1  310416400  \n",
       "2  284174800  \n",
       "3  481157600  \n",
       "4  530583200  "
      ]
     },
     "execution_count": 9,
     "metadata": {},
     "output_type": "execute_result"
    }
   ],
   "source": [
    "#with panda library we are going to read the data witn the \"read\" function\n",
    "apple = pd.read_csv('C:/Users/pietr/Desktop/pv/MY OWN BUSINESS/Operazione Tocco/AAPL.csv')\n",
    "apple.head() #with this function the top rows of the file are displayed"
   ]
  },
  {
   "cell_type": "code",
   "execution_count": 10,
   "id": "b5254f9d",
   "metadata": {},
   "outputs": [
    {
     "name": "stdout",
     "output_type": "stream",
     "text": [
      "<class 'pandas.core.frame.DataFrame'>\n",
      "RangeIndex: 2770 entries, 0 to 2769\n",
      "Data columns (total 7 columns):\n",
      " #   Column     Non-Null Count  Dtype  \n",
      "---  ------     --------------  -----  \n",
      " 0   Date       2770 non-null   object \n",
      " 1   Open       2770 non-null   float64\n",
      " 2   High       2770 non-null   float64\n",
      " 3   Low        2770 non-null   float64\n",
      " 4   Close      2770 non-null   float64\n",
      " 5   Adj Close  2770 non-null   float64\n",
      " 6   Volume     2770 non-null   int64  \n",
      "dtypes: float64(5), int64(1), object(1)\n",
      "memory usage: 151.6+ KB\n"
     ]
    }
   ],
   "source": [
    "apple.info() #total number of rows, columns, data typ, check if there are null values"
   ]
  },
  {
   "cell_type": "code",
   "execution_count": null,
   "id": "93686f88",
   "metadata": {},
   "outputs": [],
   "source": [
    "apple['Date'] = pd.to_datetime(apple['Date'])"
   ]
  }
 ],
 "metadata": {
  "kernelspec": {
   "display_name": "Python 3",
   "language": "python",
   "name": "python3"
  },
  "language_info": {
   "codemirror_mode": {
    "name": "ipython",
    "version": 3
   },
   "file_extension": ".py",
   "mimetype": "text/x-python",
   "name": "python",
   "nbconvert_exporter": "python",
   "pygments_lexer": "ipython3",
   "version": "3.8.8"
  }
 },
 "nbformat": 4,
 "nbformat_minor": 5
}
